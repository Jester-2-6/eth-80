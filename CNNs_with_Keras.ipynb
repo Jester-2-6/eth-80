{
  "nbformat": 4,
  "nbformat_minor": 0,
  "metadata": {
    "colab": {
      "name": "CNNs with Keras.ipynb",
      "version": "0.3.2",
      "provenance": [],
      "collapsed_sections": []
    },
    "kernelspec": {
      "name": "python3",
      "display_name": "Python 3"
    }
  },
  "cells": [
    {
      "cell_type": "markdown",
      "metadata": {
        "id": "jptaGq3k1L0c",
        "colab_type": "text"
      },
      "source": [
        "# Deep Learning with Keras and Tensorflow"
      ]
    },
    {
      "cell_type": "markdown",
      "metadata": {
        "id": "aYQAC9gW0m6V",
        "colab_type": "text"
      },
      "source": [
        "## Getting Prepared"
      ]
    },
    {
      "cell_type": "markdown",
      "metadata": {
        "id": "CshxuGBg02Be",
        "colab_type": "text"
      },
      "source": [
        "Download and extract the dataset"
      ]
    },
    {
      "cell_type": "code",
      "metadata": {
        "id": "LN1ELDdD0vY1",
        "colab_type": "code",
        "colab": {}
      },
      "source": [
        "!wget 'https://github.com/sadeepj/eth-80/releases/download/0.0.1/eth-80.tar.gz'\n"
      ],
      "execution_count": 0,
      "outputs": []
    },
    {
      "cell_type": "code",
      "metadata": {
        "id": "85ra2G-GrfMx",
        "colab_type": "code",
        "colab": {}
      },
      "source": [
        "!tar xvf eth-80.tar.gz"
      ],
      "execution_count": 0,
      "outputs": []
    },
    {
      "cell_type": "markdown",
      "metadata": {
        "id": "_yzp6S_t1AE8",
        "colab_type": "text"
      },
      "source": [
        "Verify that the data is there"
      ]
    },
    {
      "cell_type": "code",
      "metadata": {
        "id": "HLIwYy7orqZu",
        "colab_type": "code",
        "colab": {}
      },
      "source": [
        "from PIL import Image\n",
        "from IPython.display import display"
      ],
      "execution_count": 0,
      "outputs": []
    },
    {
      "cell_type": "code",
      "metadata": {
        "id": "WAXUx0sjrvdm",
        "colab_type": "code",
        "colab": {}
      },
      "source": [
        "im = Image.open('eth-80/train_set/dog/dog4/dog4-066-207.png')"
      ],
      "execution_count": 0,
      "outputs": []
    },
    {
      "cell_type": "code",
      "metadata": {
        "id": "KIKx04SVr3tO",
        "colab_type": "code",
        "colab": {}
      },
      "source": [
        "display(im)"
      ],
      "execution_count": 0,
      "outputs": []
    },
    {
      "cell_type": "markdown",
      "metadata": {
        "id": "LHaCWgqe1Gpl",
        "colab_type": "text"
      },
      "source": [
        "## Module import and variable initialization\n"
      ]
    },
    {
      "cell_type": "code",
      "metadata": {
        "id": "g1NLl0zpr5Em",
        "colab_type": "code",
        "colab": {}
      },
      "source": [
        "import numpy as np\n",
        "from keras.callbacks import TensorBoard\n",
        "from keras.layers import Activation, Flatten, Dense\n",
        "from keras.layers import Conv2D, MaxPooling2D, Dropout\n",
        "from keras.models import Sequential\n",
        "from keras.preprocessing.image import ImageDataGenerator\n",
        "from tensorboardcolab import TensorBoardColab, TensorBoardColabCallback\n"
      ],
      "execution_count": 0,
      "outputs": []
    },
    {
      "cell_type": "code",
      "metadata": {
        "id": "XiQl7VpLugsV",
        "colab_type": "code",
        "colab": {}
      },
      "source": [
        "# dimensions of our images.\n",
        "img_width, img_height = 128, 128"
      ],
      "execution_count": 0,
      "outputs": []
    },
    {
      "cell_type": "code",
      "metadata": {
        "id": "FFZy9cjzuniD",
        "colab_type": "code",
        "colab": {}
      },
      "source": [
        "train_data_dir = 'eth-80/train_set'\n",
        "validation_data_dir = 'eth-80/val_set'\n",
        "nb_train_samples = 2952\n",
        "nb_validation_samples = 328\n",
        "epochs = 50\n",
        "batch_size = 32"
      ],
      "execution_count": 0,
      "outputs": []
    },
    {
      "cell_type": "markdown",
      "metadata": {
        "id": "jXb7swv01guk",
        "colab_type": "text"
      },
      "source": [
        "## Define the CNN model"
      ]
    },
    {
      "cell_type": "code",
      "metadata": {
        "id": "rSoc-mPGutHb",
        "colab_type": "code",
        "colab": {}
      },
      "source": [
        "input_shape = (img_width, img_height, 3)\n",
        "\n",
        "model = Sequential()\n",
        "model.add(Conv2D(32, (3, 3), input_shape=input_shape))\n",
        "model.add(Activation('relu'))\n",
        "model.add(MaxPooling2D(pool_size=(2, 2)))\n",
        "\n",
        "model.add(Conv2D(32, (3, 3)))\n",
        "model.add(Activation('relu'))\n",
        "model.add(MaxPooling2D(pool_size=(2, 2)))\n",
        "\n",
        "model.add(Conv2D(64, (3, 3)))\n",
        "model.add(Activation('relu'))\n",
        "model.add(MaxPooling2D(pool_size=(2, 2)))\n",
        "\n",
        "model.add(Flatten())\n",
        "model.add(Dense(64))\n",
        "model.add(Activation('relu'))\n",
        "\n",
        "model.add(Dense(64))\n",
        "model.add(Activation('relu'))\n",
        "\n",
        "model.add(Dropout(0.5))\n",
        "model.add(Dense(8))\n",
        "model.add(Activation('softmax'))"
      ],
      "execution_count": 0,
      "outputs": []
    },
    {
      "cell_type": "code",
      "metadata": {
        "id": "smGkFRrluwiz",
        "colab_type": "code",
        "colab": {}
      },
      "source": [
        "model.compile(\n",
        "    loss='categorical_crossentropy',\n",
        "    optimizer='rmsprop',\n",
        "    metrics=['accuracy']\n",
        ")\n",
        "\n"
      ],
      "execution_count": 0,
      "outputs": []
    },
    {
      "cell_type": "markdown",
      "metadata": {
        "id": "wAOwEYK74HT_",
        "colab_type": "text"
      },
      "source": [
        "## Prepare data feeders"
      ]
    },
    {
      "cell_type": "code",
      "metadata": {
        "id": "EKx2PQ413iTg",
        "colab_type": "code",
        "colab": {}
      },
      "source": [
        "# this is the data augmentation configuration we will use for training\n",
        "train_datagen = ImageDataGenerator(\n",
        "    rescale=1. / 255,\n",
        "    shear_range=0.2,\n",
        "    zoom_range=0.2,\n",
        "    horizontal_flip=True\n",
        ")"
      ],
      "execution_count": 0,
      "outputs": []
    },
    {
      "cell_type": "code",
      "metadata": {
        "id": "7mlZi2E-u1xr",
        "colab_type": "code",
        "colab": {}
      },
      "source": [
        "# this is the augmentation configuration we will use for testing:\n",
        "# only rescaling\n",
        "test_datagen = ImageDataGenerator(rescale=1. / 255)\n",
        "\n",
        "train_generator = train_datagen.flow_from_directory(\n",
        "    train_data_dir,\n",
        "    target_size=(img_width, img_height),\n",
        "    batch_size=batch_size,\n",
        "    class_mode='categorical'\n",
        ")\n",
        "\n",
        "validation_generator = test_datagen.flow_from_directory(\n",
        "    validation_data_dir,\n",
        "    target_size=(img_width, img_height),\n",
        "    batch_size=batch_size,\n",
        "    class_mode='categorical'\n",
        ")"
      ],
      "execution_count": 0,
      "outputs": []
    },
    {
      "cell_type": "markdown",
      "metadata": {
        "id": "ahDZ1W-f1q_j",
        "colab_type": "text"
      },
      "source": [
        "## Test the data feeders"
      ]
    },
    {
      "cell_type": "code",
      "metadata": {
        "id": "FtjB6g0B1uiz",
        "colab_type": "code",
        "colab": {}
      },
      "source": [
        "datum = next(train_generator)"
      ],
      "execution_count": 0,
      "outputs": []
    },
    {
      "cell_type": "code",
      "metadata": {
        "id": "ZlDeuyZA2FQr",
        "colab_type": "code",
        "colab": {}
      },
      "source": [
        ""
      ],
      "execution_count": 0,
      "outputs": []
    },
    {
      "cell_type": "code",
      "metadata": {
        "id": "rp2oU7j72hJK",
        "colab_type": "code",
        "colab": {}
      },
      "source": [
        ""
      ],
      "execution_count": 0,
      "outputs": []
    },
    {
      "cell_type": "code",
      "metadata": {
        "id": "A9JCkIuT25N5",
        "colab_type": "code",
        "colab": {}
      },
      "source": [
        ""
      ],
      "execution_count": 0,
      "outputs": []
    },
    {
      "cell_type": "markdown",
      "metadata": {
        "id": "szCLmqdp4Xo3",
        "colab_type": "text"
      },
      "source": [
        "## Fit the model"
      ]
    },
    {
      "cell_type": "code",
      "metadata": {
        "id": "0bM-VA2cu5Ky",
        "colab_type": "code",
        "colab": {}
      },
      "source": [
        "\n",
        "tbc = TensorBoardColab()\n",
        "model.fit_generator(\n",
        "    train_generator,\n",
        "    steps_per_epoch=nb_train_samples // batch_size,\n",
        "    epochs=epochs,\n",
        "    validation_data=validation_generator,\n",
        "    validation_steps=nb_validation_samples // batch_size,\n",
        "    callbacks=[TensorBoardColabCallback(tbc)]\n",
        ")"
      ],
      "execution_count": 0,
      "outputs": []
    },
    {
      "cell_type": "markdown",
      "metadata": {
        "id": "69Vlh4LQ4mZu",
        "colab_type": "text"
      },
      "source": [
        "## Save the weights"
      ]
    },
    {
      "cell_type": "code",
      "metadata": {
        "id": "DChf4PkmxMH0",
        "colab_type": "code",
        "colab": {}
      },
      "source": [
        ""
      ],
      "execution_count": 0,
      "outputs": []
    },
    {
      "cell_type": "code",
      "metadata": {
        "id": "FYFat3A9u9VL",
        "colab_type": "code",
        "colab": {}
      },
      "source": [
        ""
      ],
      "execution_count": 0,
      "outputs": []
    },
    {
      "cell_type": "markdown",
      "metadata": {
        "id": "me1pVtAG4qDG",
        "colab_type": "text"
      },
      "source": [
        "## Make predictions with the trained CNN!"
      ]
    },
    {
      "cell_type": "code",
      "metadata": {
        "id": "UpCSIaB04tgS",
        "colab_type": "code",
        "colab": {}
      },
      "source": [
        ""
      ],
      "execution_count": 0,
      "outputs": []
    }
  ]
}